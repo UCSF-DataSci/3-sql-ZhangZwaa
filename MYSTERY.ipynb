{
 "cells": [
  {
   "cell_type": "markdown",
   "id": "ebb94371",
   "metadata": {},
   "source": [
    "# SQL Murder Mystery\n",
    "\n",
    "## Can you find out whodunnit?\n",
    "\n",
    "![A decorative illustration of a detective looking at an evidence board.](https://mystery.knightlab.com/174092-clue-illustration.png)\n",
    "\n",
    "There's been a Murder in SQL City! The SQL Murder Mystery is designed to be both a self-directed lesson to learn SQL concepts and commands and a fun game for experienced SQL users to solve an intriguing crime.\n",
    "\n",
    "## SQL sleuths start here\n",
    "\n",
    "A crime has taken place and the detective needs your help. The detective gave you the crime scene report, but you somehow lost it. You vaguely remember that the crime was a **​murder​**that occurred sometime on ​**Jan.15, 2018​** and that it took place in ​**SQL City​**. Start by retrieving the corresponding crime scene report from the police department’s database.\n",
    "\n",
    "### Exploring the Database Structure\n",
    "\n",
    "Experienced SQL users can often use database queries to infer the structure of a database. But each database system has different ways of managing this information. The SQL Murder Mystery is built using SQLite. Use this SQL command to find the tables in the Murder Mystery database.\n",
    "\n",
    "Run this query to find the names of the tables in this database.\n",
    "\n",
    "This command is specific to SQLite. For other databases, you'll have to learn their specific syntax.\n"
   ]
  },
  {
   "cell_type": "code",
   "execution_count": 6,
   "id": "1370e6a4",
   "metadata": {},
   "outputs": [
    {
     "name": "stdout",
     "output_type": "stream",
     "text": [
      "Note: you may need to restart the kernel to use updated packages.\n",
      "The sql extension is already loaded. To reload it, use:\n",
      "  %reload_ext sql\n"
     ]
    }
   ],
   "source": [
    "# Install required packages\n",
    "%pip install jupysql sqlalchemy pandas --quiet\n",
    "\n",
    "# Load SQL magic\n",
    "%load_ext sql\n",
    "\n",
    "# Connect to the database\n",
    "%sql sqlite:///sql-murder-mystery.db\n",
    "#%config SqlMagic.style = 'table'"
   ]
  },
  {
   "cell_type": "code",
   "execution_count": 7,
   "id": "2f0d9254",
   "metadata": {},
   "outputs": [
    {
     "data": {
      "text/html": [
       "<span style=\"None\">Running query in &#x27;sqlite:///sql-murder-mystery.db&#x27;</span>"
      ],
      "text/plain": [
       "Running query in 'sqlite:///sql-murder-mystery.db'"
      ]
     },
     "metadata": {},
     "output_type": "display_data"
    },
    {
     "data": {
      "text/html": [
       "<table>\n",
       "    <thead>\n",
       "        <tr>\n",
       "            <th>name</th>\n",
       "        </tr>\n",
       "    </thead>\n",
       "    <tbody>\n",
       "        <tr>\n",
       "            <td>crime_scene_report</td>\n",
       "        </tr>\n",
       "        <tr>\n",
       "            <td>drivers_license</td>\n",
       "        </tr>\n",
       "        <tr>\n",
       "            <td>facebook_event_checkin</td>\n",
       "        </tr>\n",
       "        <tr>\n",
       "            <td>interview</td>\n",
       "        </tr>\n",
       "        <tr>\n",
       "            <td>get_fit_now_member</td>\n",
       "        </tr>\n",
       "        <tr>\n",
       "            <td>sqlite_autoindex_get_fit_now_member_1</td>\n",
       "        </tr>\n",
       "        <tr>\n",
       "            <td>get_fit_now_check_in</td>\n",
       "        </tr>\n",
       "        <tr>\n",
       "            <td>solution</td>\n",
       "        </tr>\n",
       "        <tr>\n",
       "            <td>check_solution</td>\n",
       "        </tr>\n",
       "        <tr>\n",
       "            <td>income</td>\n",
       "        </tr>\n",
       "    </tbody>\n",
       "</table>\n",
       "<span style=\"font-style:italic;text-align:center;\">Truncated to <a href=\"https://jupysql.ploomber.io/en/latest/api/configuration.html#displaylimit\">displaylimit</a> of 10.</span>"
      ],
      "text/plain": [
       "+---------------------------------------+\n",
       "|                  name                 |\n",
       "+---------------------------------------+\n",
       "|           crime_scene_report          |\n",
       "|            drivers_license            |\n",
       "|         facebook_event_checkin        |\n",
       "|               interview               |\n",
       "|           get_fit_now_member          |\n",
       "| sqlite_autoindex_get_fit_now_member_1 |\n",
       "|          get_fit_now_check_in         |\n",
       "|                solution               |\n",
       "|             check_solution            |\n",
       "|                 income                |\n",
       "+---------------------------------------+\n",
       "Truncated to displaylimit of 10."
      ]
     },
     "execution_count": 7,
     "metadata": {},
     "output_type": "execute_result"
    }
   ],
   "source": [
    "%%sql\n",
    "SELECT name\n",
    "FROM sqlite_master"
   ]
  },
  {
   "cell_type": "markdown",
   "id": "c71b53aa",
   "metadata": {},
   "source": [
    "\n",
    "Besides knowing the table names, you need to know how each table is structured. The way this works is also dependent upon which database technology you use. Here's how you do it with SQLite.\n",
    "\n",
    "Run this query to find the structure of the `crime_scene_report` table\n",
    "\n",
    "Change the value of 'name' to see the structure of the other tables you learned about with the previous query.\n"
   ]
  },
  {
   "cell_type": "code",
   "execution_count": 8,
   "id": "a977d922",
   "metadata": {},
   "outputs": [
    {
     "data": {
      "text/html": [
       "<span style=\"None\">Running query in &#x27;sqlite:///sql-murder-mystery.db&#x27;</span>"
      ],
      "text/plain": [
       "Running query in 'sqlite:///sql-murder-mystery.db'"
      ]
     },
     "metadata": {},
     "output_type": "display_data"
    },
    {
     "data": {
      "text/html": [
       "<table>\n",
       "    <thead>\n",
       "        <tr>\n",
       "            <th>sql</th>\n",
       "        </tr>\n",
       "    </thead>\n",
       "    <tbody>\n",
       "        <tr>\n",
       "            <td>CREATE TABLE crime_scene_report (<br>        date integer,<br>        type text,<br>        description text,<br>        city text<br>    )</td>\n",
       "        </tr>\n",
       "    </tbody>\n",
       "</table>"
      ],
      "text/plain": [
       "+-----------------------------------+\n",
       "|                sql                |\n",
       "+-----------------------------------+\n",
       "| CREATE TABLE crime_scene_report ( |\n",
       "|               date integer,       |\n",
       "|                 type text,        |\n",
       "|             description text,     |\n",
       "|                 city text         |\n",
       "|                   )               |\n",
       "+-----------------------------------+"
      ]
     },
     "execution_count": 8,
     "metadata": {},
     "output_type": "execute_result"
    }
   ],
   "source": [
    "%%sql\n",
    "SELECT sql\n",
    "FROM sqlite_master\n",
    "where name = 'crime_scene_report'"
   ]
  },
  {
   "cell_type": "markdown",
   "id": "d9789bc7",
   "metadata": {},
   "source": [
    "\n",
    "### The rest is up to you!\n",
    "\n",
    "If you're really comfortable with SQL, you can probably get it from here. To help, here is the schema diagram:\n",
    "\n",
    "![schema diagram](schema.png)\n",
    "\n",
    "Use your knowledge of the database schema and SQL commands to find out who committed the murder.\n",
    "### Check your solution\n",
    "\n",
    "Did you find the killer? When you think you know the answer, submit your suspect using the following code and find out if you're right.\n"
   ]
  },
  {
   "cell_type": "code",
   "execution_count": 9,
   "id": "830ea4a6",
   "metadata": {},
   "outputs": [
    {
     "data": {
      "text/html": [
       "<span style=\"None\">Running query in &#x27;sqlite:///sql-murder-mystery.db&#x27;</span>"
      ],
      "text/plain": [
       "Running query in 'sqlite:///sql-murder-mystery.db'"
      ]
     },
     "metadata": {},
     "output_type": "display_data"
    },
    {
     "name": "stderr",
     "output_type": "stream",
     "text": [
      "RuntimeError: (sqlite3.OperationalError) database is locked\n",
      "[SQL: INSERT INTO solution VALUES (1, 'Muoi Cary');]\n",
      "(Background on this error at: https://sqlalche.me/e/20/e3q8)\n"
     ]
    }
   ],
   "source": [
    "%%sql\n",
    "INSERT INTO solution VALUES (1, 'Muoi Cary');\n",
    "SELECT value FROM solution;"
   ]
  },
  {
   "cell_type": "code",
   "execution_count": 10,
   "id": "c4d52dc8",
   "metadata": {},
   "outputs": [
    {
     "data": {
      "text/html": [
       "<span style=\"None\">Running query in &#x27;sqlite:///sql-murder-mystery.db&#x27;</span>"
      ],
      "text/plain": [
       "Running query in 'sqlite:///sql-murder-mystery.db'"
      ]
     },
     "metadata": {},
     "output_type": "display_data"
    },
    {
     "data": {
      "text/html": [
       "<table>\n",
       "    <thead>\n",
       "        <tr>\n",
       "            <th>description</th>\n",
       "        </tr>\n",
       "    </thead>\n",
       "    <tbody>\n",
       "        <tr>\n",
       "            <td>Security footage shows that there were 2 witnesses. The first witness lives at the last house on \"Northwestern Dr\". The second witness, named Annabel, lives somewhere on \"Franklin Ave\".</td>\n",
       "        </tr>\n",
       "    </tbody>\n",
       "</table>"
      ],
      "text/plain": [
       "+-------------------------------------------------------------------------------------------------------------------------------------------------------------------------------------------+\n",
       "|                                                                                        description                                                                                        |\n",
       "+-------------------------------------------------------------------------------------------------------------------------------------------------------------------------------------------+\n",
       "| Security footage shows that there were 2 witnesses. The first witness lives at the last house on \"Northwestern Dr\". The second witness, named Annabel, lives somewhere on \"Franklin Ave\". |\n",
       "+-------------------------------------------------------------------------------------------------------------------------------------------------------------------------------------------+"
      ]
     },
     "execution_count": 10,
     "metadata": {},
     "output_type": "execute_result"
    }
   ],
   "source": [
    "%%sql\n",
    "SELECT description\n",
    "FROM crime_scene_report\n",
    "WHERE crime_scene_report.type=\"murder\" \n",
    "AND crime_scene_report.date = \"20180115\" \n",
    "AND crime_scene_report.city = \"SQL City\" "
   ]
  },
  {
   "cell_type": "code",
   "execution_count": 11,
   "id": "7128ad3e",
   "metadata": {},
   "outputs": [
    {
     "data": {
      "text/html": [
       "<span style=\"None\">Running query in &#x27;sqlite:///sql-murder-mystery.db&#x27;</span>"
      ],
      "text/plain": [
       "Running query in 'sqlite:///sql-murder-mystery.db'"
      ]
     },
     "metadata": {},
     "output_type": "display_data"
    },
    {
     "data": {
      "text/html": [
       "<table>\n",
       "    <thead>\n",
       "        <tr>\n",
       "            <th>id</th>\n",
       "            <th>name</th>\n",
       "            <th>license_id</th>\n",
       "            <th>address_number</th>\n",
       "            <th>address_street_name</th>\n",
       "            <th>ssn</th>\n",
       "        </tr>\n",
       "    </thead>\n",
       "    <tbody>\n",
       "        <tr>\n",
       "            <td>10010</td>\n",
       "            <td>Muoi Cary</td>\n",
       "            <td>385336</td>\n",
       "            <td>741</td>\n",
       "            <td>Northwestern Dr</td>\n",
       "            <td>828638512</td>\n",
       "        </tr>\n",
       "        <tr>\n",
       "            <td>12711</td>\n",
       "            <td>Norman Apolito</td>\n",
       "            <td>667757</td>\n",
       "            <td>599</td>\n",
       "            <td>Northwestern Dr</td>\n",
       "            <td>778264744</td>\n",
       "        </tr>\n",
       "        <tr>\n",
       "            <td>14887</td>\n",
       "            <td>Morty Schapiro</td>\n",
       "            <td>118009</td>\n",
       "            <td>4919</td>\n",
       "            <td>Northwestern Dr</td>\n",
       "            <td>111564949</td>\n",
       "        </tr>\n",
       "        <tr>\n",
       "            <td>15171</td>\n",
       "            <td>Weldon Penso</td>\n",
       "            <td>336999</td>\n",
       "            <td>311</td>\n",
       "            <td>Northwestern Dr</td>\n",
       "            <td>131379495</td>\n",
       "        </tr>\n",
       "        <tr>\n",
       "            <td>17683</td>\n",
       "            <td>Johnnie Schee</td>\n",
       "            <td>968887</td>\n",
       "            <td>1277</td>\n",
       "            <td>Franklin Ave</td>\n",
       "            <td>815977821</td>\n",
       "        </tr>\n",
       "        <tr>\n",
       "            <td>17729</td>\n",
       "            <td>Lasonya Wildey</td>\n",
       "            <td>439686</td>\n",
       "            <td>3824</td>\n",
       "            <td>Northwestern Dr</td>\n",
       "            <td>917817122</td>\n",
       "        </tr>\n",
       "        <tr>\n",
       "            <td>18376</td>\n",
       "            <td>Josh Shi</td>\n",
       "            <td>653712</td>\n",
       "            <td>1091</td>\n",
       "            <td>Northwestern Dr</td>\n",
       "            <td>193899001</td>\n",
       "        </tr>\n",
       "        <tr>\n",
       "            <td>18651</td>\n",
       "            <td>Carleen Etoll</td>\n",
       "            <td>356746</td>\n",
       "            <td>22</td>\n",
       "            <td>Franklin Ave</td>\n",
       "            <td>193369255</td>\n",
       "        </tr>\n",
       "        <tr>\n",
       "            <td>19420</td>\n",
       "            <td>Cody Schiel</td>\n",
       "            <td>890431</td>\n",
       "            <td>3524</td>\n",
       "            <td>Northwestern Dr</td>\n",
       "            <td>947110049</td>\n",
       "        </tr>\n",
       "        <tr>\n",
       "            <td>22239</td>\n",
       "            <td>Dusty Sigafus</td>\n",
       "            <td>710517</td>\n",
       "            <td>1125</td>\n",
       "            <td>Northwestern Dr</td>\n",
       "            <td>724386723</td>\n",
       "        </tr>\n",
       "    </tbody>\n",
       "</table>\n",
       "<span style=\"font-style:italic;text-align:center;\">Truncated to <a href=\"https://jupysql.ploomber.io/en/latest/api/configuration.html#displaylimit\">displaylimit</a> of 10.</span>"
      ],
      "text/plain": [
       "+-------+----------------+------------+----------------+---------------------+-----------+\n",
       "|   id  |      name      | license_id | address_number | address_street_name |    ssn    |\n",
       "+-------+----------------+------------+----------------+---------------------+-----------+\n",
       "| 10010 |   Muoi Cary    |   385336   |      741       |   Northwestern Dr   | 828638512 |\n",
       "| 12711 | Norman Apolito |   667757   |      599       |   Northwestern Dr   | 778264744 |\n",
       "| 14887 | Morty Schapiro |   118009   |      4919      |   Northwestern Dr   | 111564949 |\n",
       "| 15171 |  Weldon Penso  |   336999   |      311       |   Northwestern Dr   | 131379495 |\n",
       "| 17683 | Johnnie Schee  |   968887   |      1277      |     Franklin Ave    | 815977821 |\n",
       "| 17729 | Lasonya Wildey |   439686   |      3824      |   Northwestern Dr   | 917817122 |\n",
       "| 18376 |    Josh Shi    |   653712   |      1091      |   Northwestern Dr   | 193899001 |\n",
       "| 18651 | Carleen Etoll  |   356746   |       22       |     Franklin Ave    | 193369255 |\n",
       "| 19420 |  Cody Schiel   |   890431   |      3524      |   Northwestern Dr   | 947110049 |\n",
       "| 22239 | Dusty Sigafus  |   710517   |      1125      |   Northwestern Dr   | 724386723 |\n",
       "+-------+----------------+------------+----------------+---------------------+-----------+\n",
       "Truncated to displaylimit of 10."
      ]
     },
     "execution_count": 11,
     "metadata": {},
     "output_type": "execute_result"
    }
   ],
   "source": [
    "%%sql\n",
    "SELECT *\n",
    "FROM person\n",
    "WHERE person.id NOT IN\n",
    "(SELECT DISTINCT m.id AS person_id\n",
    "FROM get_fit_now_member m, get_fit_now_check_in g\n",
    "WHERE g.check_in_date = '20180115'\n",
    "AND g.membership_id = m.id\n",
    "\n",
    "UNION\n",
    "\n",
    "SELECT DISTINCT f.person_id\n",
    "FROM facebook_event_checkin f\n",
    "WHERE f.date = '20180115'\n",
    "\n",
    "UNION\n",
    "\n",
    "SELECT DISTINCT i.person_id\n",
    "FROM interview i)\n",
    "AND person.address_street_name = \"Franklin Ave\" OR person.address_street_name = \"Northwestern Dr\";"
   ]
  }
 ],
 "metadata": {
  "kernelspec": {
   "display_name": "Python 3",
   "language": "python",
   "name": "python3"
  },
  "language_info": {
   "codemirror_mode": {
    "name": "ipython",
    "version": 3
   },
   "file_extension": ".py",
   "mimetype": "text/x-python",
   "name": "python",
   "nbconvert_exporter": "python",
   "pygments_lexer": "ipython3",
   "version": "3.12.1"
  }
 },
 "nbformat": 4,
 "nbformat_minor": 5
}
