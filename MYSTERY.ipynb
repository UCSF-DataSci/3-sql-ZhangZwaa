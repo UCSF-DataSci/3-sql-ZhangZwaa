{
 "cells": [
  {
   "cell_type": "markdown",
   "id": "ebb94371",
   "metadata": {},
   "source": [
    "# SQL Murder Mystery\n",
    "\n",
    "## Can you find out whodunnit?\n",
    "\n",
    "![A decorative illustration of a detective looking at an evidence board.](https://mystery.knightlab.com/174092-clue-illustration.png)\n",
    "\n",
    "There's been a Murder in SQL City! The SQL Murder Mystery is designed to be both a self-directed lesson to learn SQL concepts and commands and a fun game for experienced SQL users to solve an intriguing crime.\n",
    "\n",
    "## SQL sleuths start here\n",
    "\n",
    "A crime has taken place and the detective needs your help. The detective gave you the crime scene report, but you somehow lost it. You vaguely remember that the crime was a **​murder​**that occurred sometime on ​**Jan.15, 2018​** and that it took place in ​**SQL City​**. Start by retrieving the corresponding crime scene report from the police department’s database.\n",
    "\n",
    "### Exploring the Database Structure\n",
    "\n",
    "Experienced SQL users can often use database queries to infer the structure of a database. But each database system has different ways of managing this information. The SQL Murder Mystery is built using SQLite. Use this SQL command to find the tables in the Murder Mystery database.\n",
    "\n",
    "Run this query to find the names of the tables in this database.\n",
    "\n",
    "This command is specific to SQLite. For other databases, you'll have to learn their specific syntax.\n"
   ]
  },
  {
   "cell_type": "code",
   "execution_count": 1,
   "id": "1370e6a4",
   "metadata": {},
   "outputs": [
    {
     "name": "stdout",
     "output_type": "stream",
     "text": [
      "Note: you may need to restart the kernel to use updated packages.\n"
     ]
    },
    {
     "data": {
      "text/html": [
       "<span style=\"None\">Connecting to &#x27;sqlite:///sql-murder-mystery.db&#x27;</span>"
      ],
      "text/plain": [
       "Connecting to 'sqlite:///sql-murder-mystery.db'"
      ]
     },
     "metadata": {},
     "output_type": "display_data"
    }
   ],
   "source": [
    "# Install required packages\n",
    "%pip install jupysql sqlalchemy pandas --quiet\n",
    "\n",
    "# Load SQL magic\n",
    "%load_ext sql\n",
    "\n",
    "# Connect to the database\n",
    "%sql sqlite:///sql-murder-mystery.db\n",
    "#%config SqlMagic.style = 'table'"
   ]
  },
  {
   "cell_type": "code",
   "execution_count": null,
   "id": "2f0d9254",
   "metadata": {},
   "outputs": [],
   "source": [
    "%%sql\n",
    "SELECT name\n",
    "FROM sqlite_master"
   ]
  },
  {
   "cell_type": "markdown",
   "id": "c71b53aa",
   "metadata": {},
   "source": [
    "\n",
    "Besides knowing the table names, you need to know how each table is structured. The way this works is also dependent upon which database technology you use. Here's how you do it with SQLite.\n",
    "\n",
    "Run this query to find the structure of the `crime_scene_report` table\n",
    "\n",
    "Change the value of 'name' to see the structure of the other tables you learned about with the previous query.\n"
   ]
  },
  {
   "cell_type": "code",
   "execution_count": null,
   "id": "a977d922",
   "metadata": {},
   "outputs": [],
   "source": [
    "%%sql\n",
    "SELECT *\n",
    "FROM sqlite_master\n",
    "where name = 'solution'"
   ]
  },
  {
   "cell_type": "markdown",
   "id": "d9789bc7",
   "metadata": {},
   "source": [
    "\n",
    "### The rest is up to you!\n",
    "\n",
    "If you're really comfortable with SQL, you can probably get it from here. To help, here is the schema diagram:\n",
    "\n",
    "![schema diagram](schema.png)\n",
    "\n",
    "Use your knowledge of the database schema and SQL commands to find out who committed the murder.\n",
    "### Check your solution\n",
    "\n",
    "Did you find the killer? When you think you know the answer, submit your suspect using the following code and find out if you're right.\n"
   ]
  },
  {
   "cell_type": "code",
   "execution_count": 2,
   "id": "025fad9f",
   "metadata": {},
   "outputs": [
    {
     "data": {
      "text/html": [
       "<span style=\"None\">Running query in &#x27;sqlite:///sql-murder-mystery.db&#x27;</span>"
      ],
      "text/plain": [
       "Running query in 'sqlite:///sql-murder-mystery.db'"
      ]
     },
     "metadata": {},
     "output_type": "display_data"
    },
    {
     "data": {
      "text/html": [
       "<span style=\"color: green\">1 rows affected.</span>"
      ],
      "text/plain": [
       "1 rows affected."
      ]
     },
     "metadata": {},
     "output_type": "display_data"
    },
    {
     "data": {
      "text/html": [
       "<table>\n",
       "    <thead>\n",
       "        <tr>\n",
       "            <th>value</th>\n",
       "        </tr>\n",
       "    </thead>\n",
       "    <tbody>\n",
       "        <tr>\n",
       "            <td>Congrats, you found the brains behind the murder! Everyone in SQL City hails you as the greatest SQL detective of all time. Time to break out the champagne!</td>\n",
       "        </tr>\n",
       "    </tbody>\n",
       "</table>"
      ],
      "text/plain": [
       "+--------------------------------------------------------------------------------------------------------------------------------------------------------------+\n",
       "|                                                                            value                                                                             |\n",
       "+--------------------------------------------------------------------------------------------------------------------------------------------------------------+\n",
       "| Congrats, you found the brains behind the murder! Everyone in SQL City hails you as the greatest SQL detective of all time. Time to break out the champagne! |\n",
       "+--------------------------------------------------------------------------------------------------------------------------------------------------------------+"
      ]
     },
     "execution_count": 2,
     "metadata": {},
     "output_type": "execute_result"
    }
   ],
   "source": [
    "%%sql\n",
    "INSERT INTO solution VALUES (1, 'Miranda Priestly');\n",
    "SELECT value FROM solution;"
   ]
  },
  {
   "cell_type": "code",
   "execution_count": null,
   "id": "c4d52dc8",
   "metadata": {},
   "outputs": [],
   "source": [
    "%%sql\n",
    "SELECT description\n",
    "FROM crime_scene_report\n",
    "WHERE crime_scene_report.type=\"murder\" \n",
    "AND crime_scene_report.date = \"20180115\" \n",
    "AND crime_scene_report.city = \"SQL City\" "
   ]
  },
  {
   "cell_type": "code",
   "execution_count": null,
   "id": "96abdc3b",
   "metadata": {},
   "outputs": [],
   "source": [
    "%%sql\n",
    "SELECT * \n",
    "FROM person\n",
    "WHERE address_street_name LIKE '%Northwestern Dr'\n",
    "ORDER BY address_number DESC\n",
    "LIMIT 1;"
   ]
  },
  {
   "cell_type": "code",
   "execution_count": null,
   "id": "01ee087c",
   "metadata": {},
   "outputs": [],
   "source": [
    "%%sql\n",
    "SELECT * \n",
    "FROM person\n",
    "WHERE name LIKE 'Annabel%' AND address_street_name LIKE '%Franklin Ave%';"
   ]
  },
  {
   "cell_type": "code",
   "execution_count": null,
   "id": "a8d11492",
   "metadata": {},
   "outputs": [],
   "source": [
    "%%sql\n",
    "SELECT * \n",
    "FROM interview\n",
    "WHERE person_id = 16371 OR person_id = 14887;"
   ]
  },
  {
   "cell_type": "code",
   "execution_count": null,
   "id": "57d0a3e8",
   "metadata": {},
   "outputs": [],
   "source": [
    "%%sql\n",
    "SELECT *\n",
    "FROM get_fit_now_member\n",
    "WHERE id LIKE '48Z%' AND membership_status = 'gold';"
   ]
  },
  {
   "cell_type": "code",
   "execution_count": null,
   "id": "a475cba9",
   "metadata": {},
   "outputs": [],
   "source": [
    "%%sql\n",
    "SELECT *\n",
    "FROM get_fit_now_check_in\n",
    "WHERE check_in_date = '20180109'\n",
    "  AND membership_id IN (\n",
    "    SELECT id\n",
    "    FROM get_fit_now_member\n",
    "    WHERE id LIKE '48Z%' AND membership_status = 'gold'\n",
    "  );\n"
   ]
  },
  {
   "cell_type": "code",
   "execution_count": null,
   "id": "8d417219",
   "metadata": {},
   "outputs": [],
   "source": [
    "%%sql\n",
    "SELECT p.name, d.plate_number\n",
    "FROM person p\n",
    "JOIN drivers_license d ON p.license_id = d.id\n",
    "WHERE p.id IN (28819, 67318)\n",
    "  AND d.plate_number LIKE '%H42W%';\n"
   ]
  },
  {
   "cell_type": "code",
   "execution_count": 10,
   "id": "d26e1362",
   "metadata": {},
   "outputs": [
    {
     "data": {
      "text/html": [
       "<span style=\"None\">Running query in &#x27;sqlite:///sql-murder-mystery.db&#x27;</span>"
      ],
      "text/plain": [
       "Running query in 'sqlite:///sql-murder-mystery.db'"
      ]
     },
     "metadata": {},
     "output_type": "display_data"
    },
    {
     "data": {
      "text/html": [
       "<table>\n",
       "    <thead>\n",
       "        <tr>\n",
       "            <th>person_id</th>\n",
       "            <th>transcript</th>\n",
       "        </tr>\n",
       "    </thead>\n",
       "    <tbody>\n",
       "        <tr>\n",
       "            <td>67318</td>\n",
       "            <td>I was hired by a woman with a lot of money. I don't know her name but I know she's around 5'5\" (65\") or 5'7\" (67\"). She has red hair and she drives a Tesla Model S. I know that she attended the SQL Symphony Concert 3 times in December 2017.<br></td>\n",
       "        </tr>\n",
       "    </tbody>\n",
       "</table>"
      ],
      "text/plain": [
       "+-----------+--------------------------------------------------------------------------------------------------------------------------------------------------------------------------------------------------------------------------------------------------+\n",
       "| person_id |                                                                                                                    transcript                                                                                                                    |\n",
       "+-----------+--------------------------------------------------------------------------------------------------------------------------------------------------------------------------------------------------------------------------------------------------+\n",
       "|   67318   | I was hired by a woman with a lot of money. I don't know her name but I know she's around 5'5\" (65\") or 5'7\" (67\"). She has red hair and she drives a Tesla Model S. I know that she attended the SQL Symphony Concert 3 times in December 2017. |\n",
       "|           |                                                                                                                                                                                                                                                  |\n",
       "+-----------+--------------------------------------------------------------------------------------------------------------------------------------------------------------------------------------------------------------------------------------------------+"
      ]
     },
     "execution_count": 10,
     "metadata": {},
     "output_type": "execute_result"
    }
   ],
   "source": [
    "%%sql\n",
    "SELECT *\n",
    "FROM interview\n",
    "WHERE person_id = (\n",
    "    SELECT id\n",
    "    FROM person\n",
    "    WHERE name = \"Jeremy Bowers\"\n",
    ");"
   ]
  },
  {
   "cell_type": "code",
   "execution_count": 23,
   "id": "6253b7b9",
   "metadata": {},
   "outputs": [
    {
     "data": {
      "text/html": [
       "<span style=\"None\">Running query in &#x27;sqlite:///sql-murder-mystery.db&#x27;</span>"
      ],
      "text/plain": [
       "Running query in 'sqlite:///sql-murder-mystery.db'"
      ]
     },
     "metadata": {},
     "output_type": "display_data"
    },
    {
     "data": {
      "text/html": [
       "<table>\n",
       "    <thead>\n",
       "        <tr>\n",
       "            <th>name</th>\n",
       "        </tr>\n",
       "    </thead>\n",
       "    <tbody>\n",
       "        <tr>\n",
       "            <td>Miranda Priestly</td>\n",
       "        </tr>\n",
       "    </tbody>\n",
       "</table>"
      ],
      "text/plain": [
       "+------------------+\n",
       "|       name       |\n",
       "+------------------+\n",
       "| Miranda Priestly |\n",
       "+------------------+"
      ]
     },
     "execution_count": 23,
     "metadata": {},
     "output_type": "execute_result"
    }
   ],
   "source": [
    "%%sql\n",
    "SELECT p.name\n",
    "FROM drivers_license d, person p\n",
    "WHERE p.id IN (\n",
    "    SELECT person_id\n",
    "    FROM facebook_event_checkin f\n",
    "    WHERE event_name = 'SQL Symphony Concert'\n",
    "      AND f.date BETWEEN 20171201 AND 20171231\n",
    "    GROUP BY person_id\n",
    "    HAVING COUNT(*) = 3\n",
    ")\n",
    "AND p.license_id = d.id\n",
    "AND d.height BETWEEN 65 AND 67\n",
    "AND d.car_model = 'Model S'\n",
    "AND d.gender = \"female\";"
   ]
  }
 ],
 "metadata": {
  "kernelspec": {
   "display_name": "Python 3",
   "language": "python",
   "name": "python3"
  },
  "language_info": {
   "codemirror_mode": {
    "name": "ipython",
    "version": 3
   },
   "file_extension": ".py",
   "mimetype": "text/x-python",
   "name": "python",
   "nbconvert_exporter": "python",
   "pygments_lexer": "ipython3",
   "version": "3.12.1"
  }
 },
 "nbformat": 4,
 "nbformat_minor": 5
}
